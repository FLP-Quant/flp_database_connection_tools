{
 "cells": [
  {
   "cell_type": "markdown",
   "id": "05df109a",
   "metadata": {},
   "source": [
    "## Create New Tables in FLP Quant Database Tools"
   ]
  },
  {
   "cell_type": "markdown",
   "id": "2006763c",
   "metadata": {},
   "source": [
    "### Import packages"
   ]
  },
  {
   "cell_type": "code",
   "execution_count": 4,
   "id": "8af2d6cf",
   "metadata": {},
   "outputs": [],
   "source": [
    "import sys\n",
    "import os\n",
    "import pandas as pd\n",
    "import warnings\n",
    "from IPython.display import display, HTML\n",
    "warnings.filterwarnings(\"ignore\", category=UserWarning, module='pandas.io.sql')\n",
    "\n",
    "# Get the parent directory of the notebook (i.e., project root)\n",
    "project_root = os.path.abspath(os.path.join(os.getcwd(), \"..\"))\n",
    "if project_root not in sys.path:\n",
    "    sys.path.append(project_root)\n",
    "\n",
    "from Helpers.flp_database_connector import flp_database_connector"
   ]
  },
  {
   "cell_type": "markdown",
   "id": "996be32f",
   "metadata": {},
   "source": [
    "### Inputs"
   ]
  },
  {
   "cell_type": "code",
   "execution_count": 5,
   "id": "18458e4b",
   "metadata": {},
   "outputs": [],
   "source": [
    "USERNAME = r\"firstlightpower\\cbrooks\"\n",
    "ieso_energy_pricing_table_name = \"pricing.ieso_hourly_energy\"\n",
    "ieso_energy_pricing_excel_file = r\"C:\\Users\\cbrooks\\OneDrive - FIRSTLIGHTPOWER.COM\\Quantitative Services - General\\Data_Storage\\Pricing_Data\\ieso_rt_and_da_lmps_post_mrp.xlsx\"\n",
    "\n",
    "db_conn = flp_database_connector(USERNAME)"
   ]
  },
  {
   "cell_type": "markdown",
   "id": "4a53ae31",
   "metadata": {},
   "source": [
    "### Create Pricing Tables"
   ]
  },
  {
   "cell_type": "code",
   "execution_count": null,
   "id": "df20a7c0",
   "metadata": {},
   "outputs": [
    {
     "name": "stdout",
     "output_type": "stream",
     "text": [
      "Table pricing.ieso_energy deleted successfully.\n",
      "Created new table: pricing.ieso_energy\n",
      "Upload complete: 19584 rows written to pricing.ieso_energy\n"
     ]
    }
   ],
   "source": [
    "# Create IESO energy table\n",
    "db_conn.upload_excel_to_quant_db(\n",
    "        table_name=ieso_energy_pricing_table_name,\n",
    "        excel_file=ieso_energy_pricing_excel_file,\n",
    "        mode=\"create\"\n",
    "    )"
   ]
  }
 ],
 "metadata": {
  "kernelspec": {
   "display_name": "base",
   "language": "python",
   "name": "python3"
  },
  "language_info": {
   "codemirror_mode": {
    "name": "ipython",
    "version": 3
   },
   "file_extension": ".py",
   "mimetype": "text/x-python",
   "name": "python",
   "nbconvert_exporter": "python",
   "pygments_lexer": "ipython3",
   "version": "3.12.3"
  }
 },
 "nbformat": 4,
 "nbformat_minor": 5
}
